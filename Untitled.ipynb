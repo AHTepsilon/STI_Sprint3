{
 "cells": [
  {
   "cell_type": "code",
   "execution_count": 187,
   "id": "0e70be3e",
   "metadata": {},
   "outputs": [],
   "source": [
    "import numpy as np\n",
    "import pandas as pd\n",
    "import math\n",
    "import array as arr\n",
    "from scipy.spatial import distance\n",
    "\n",
    "import matplotlib.pyplot as plt\n",
    "\n",
    "from sklearn.datasets import make_blobs\n",
    "from sklearn.neighbors import NearestNeighbors\n",
    "from sklearn.model_selection import train_test_split"
   ]
  },
  {
   "cell_type": "code",
   "execution_count": 188,
   "id": "6f19e76a",
   "metadata": {},
   "outputs": [
    {
     "data": {
      "text/plain": [
       "'1.4.2'"
      ]
     },
     "execution_count": 188,
     "metadata": {},
     "output_type": "execute_result"
    }
   ],
   "source": [
    "pd.__version__"
   ]
  },
  {
   "cell_type": "code",
   "execution_count": 189,
   "id": "451ed33c",
   "metadata": {},
   "outputs": [],
   "source": [
    "data_base = pd.read_csv('database.csv', encoding=\"utf-8\")"
   ]
  },
  {
   "cell_type": "code",
   "execution_count": 190,
   "id": "1eed9322",
   "metadata": {
    "scrolled": true
   },
   "outputs": [
    {
     "data": {
      "text/html": [
       "<div>\n",
       "<style scoped>\n",
       "    .dataframe tbody tr th:only-of-type {\n",
       "        vertical-align: middle;\n",
       "    }\n",
       "\n",
       "    .dataframe tbody tr th {\n",
       "        vertical-align: top;\n",
       "    }\n",
       "\n",
       "    .dataframe thead th {\n",
       "        text-align: right;\n",
       "    }\n",
       "</style>\n",
       "<table border=\"1\" class=\"dataframe\">\n",
       "  <thead>\n",
       "    <tr style=\"text-align: right;\">\n",
       "      <th></th>\n",
       "      <th>Nombre</th>\n",
       "      <th>Pepperoni</th>\n",
       "      <th>Jamón</th>\n",
       "      <th>Piña</th>\n",
       "      <th>Champiñones</th>\n",
       "      <th>Maduro</th>\n",
       "      <th>Tocineta</th>\n",
       "      <th>Cebolla</th>\n",
       "      <th>Queso</th>\n",
       "    </tr>\n",
       "  </thead>\n",
       "  <tbody>\n",
       "    <tr>\n",
       "      <th>0</th>\n",
       "      <td>Natalia Betancourt</td>\n",
       "      <td>10</td>\n",
       "      <td>8</td>\n",
       "      <td>3</td>\n",
       "      <td>5</td>\n",
       "      <td>2</td>\n",
       "      <td>9</td>\n",
       "      <td>4</td>\n",
       "      <td>10</td>\n",
       "    </tr>\n",
       "    <tr>\n",
       "      <th>1</th>\n",
       "      <td>Isabella Gallego</td>\n",
       "      <td>10</td>\n",
       "      <td>5</td>\n",
       "      <td>8</td>\n",
       "      <td>8</td>\n",
       "      <td>10</td>\n",
       "      <td>10</td>\n",
       "      <td>9</td>\n",
       "      <td>10</td>\n",
       "    </tr>\n",
       "    <tr>\n",
       "      <th>2</th>\n",
       "      <td>Jose Gabriel Gonzalez</td>\n",
       "      <td>9</td>\n",
       "      <td>6</td>\n",
       "      <td>9</td>\n",
       "      <td>9</td>\n",
       "      <td>8</td>\n",
       "      <td>7</td>\n",
       "      <td>4</td>\n",
       "      <td>10</td>\n",
       "    </tr>\n",
       "    <tr>\n",
       "      <th>3</th>\n",
       "      <td>Alejandro Hernandez</td>\n",
       "      <td>10</td>\n",
       "      <td>8</td>\n",
       "      <td>7</td>\n",
       "      <td>8</td>\n",
       "      <td>9</td>\n",
       "      <td>9</td>\n",
       "      <td>7</td>\n",
       "      <td>10</td>\n",
       "    </tr>\n",
       "    <tr>\n",
       "      <th>4</th>\n",
       "      <td>Camilo Guevara</td>\n",
       "      <td>10</td>\n",
       "      <td>9</td>\n",
       "      <td>9</td>\n",
       "      <td>9</td>\n",
       "      <td>9</td>\n",
       "      <td>9</td>\n",
       "      <td>9</td>\n",
       "      <td>10</td>\n",
       "    </tr>\n",
       "    <tr>\n",
       "      <th>5</th>\n",
       "      <td>Natalia Martinez</td>\n",
       "      <td>10</td>\n",
       "      <td>9</td>\n",
       "      <td>7</td>\n",
       "      <td>9</td>\n",
       "      <td>9</td>\n",
       "      <td>10</td>\n",
       "      <td>6</td>\n",
       "      <td>10</td>\n",
       "    </tr>\n",
       "    <tr>\n",
       "      <th>6</th>\n",
       "      <td>Paula Morales</td>\n",
       "      <td>10</td>\n",
       "      <td>9</td>\n",
       "      <td>1</td>\n",
       "      <td>10</td>\n",
       "      <td>8</td>\n",
       "      <td>10</td>\n",
       "      <td>8</td>\n",
       "      <td>10</td>\n",
       "    </tr>\n",
       "    <tr>\n",
       "      <th>7</th>\n",
       "      <td>Lina Peralta</td>\n",
       "      <td>10</td>\n",
       "      <td>8</td>\n",
       "      <td>4</td>\n",
       "      <td>10</td>\n",
       "      <td>10</td>\n",
       "      <td>10</td>\n",
       "      <td>7</td>\n",
       "      <td>10</td>\n",
       "    </tr>\n",
       "    <tr>\n",
       "      <th>8</th>\n",
       "      <td>Juan Pablo Sanin</td>\n",
       "      <td>9</td>\n",
       "      <td>9</td>\n",
       "      <td>10</td>\n",
       "      <td>5</td>\n",
       "      <td>7</td>\n",
       "      <td>7</td>\n",
       "      <td>6</td>\n",
       "      <td>10</td>\n",
       "    </tr>\n",
       "    <tr>\n",
       "      <th>9</th>\n",
       "      <td>Salomon Sarria</td>\n",
       "      <td>10</td>\n",
       "      <td>10</td>\n",
       "      <td>4</td>\n",
       "      <td>6</td>\n",
       "      <td>9</td>\n",
       "      <td>9</td>\n",
       "      <td>5</td>\n",
       "      <td>10</td>\n",
       "    </tr>\n",
       "  </tbody>\n",
       "</table>\n",
       "</div>"
      ],
      "text/plain": [
       "                  Nombre  Pepperoni  Jamón  Piña  Champiñones  Maduro  \\\n",
       "0     Natalia Betancourt         10      8     3            5       2   \n",
       "1       Isabella Gallego         10      5     8            8      10   \n",
       "2  Jose Gabriel Gonzalez          9      6     9            9       8   \n",
       "3    Alejandro Hernandez         10      8     7            8       9   \n",
       "4         Camilo Guevara         10      9     9            9       9   \n",
       "5       Natalia Martinez         10      9     7            9       9   \n",
       "6          Paula Morales         10      9     1           10       8   \n",
       "7           Lina Peralta         10      8     4           10      10   \n",
       "8       Juan Pablo Sanin          9      9    10            5       7   \n",
       "9         Salomon Sarria         10     10     4            6       9   \n",
       "\n",
       "   Tocineta  Cebolla  Queso  \n",
       "0         9        4     10  \n",
       "1        10        9     10  \n",
       "2         7        4     10  \n",
       "3         9        7     10  \n",
       "4         9        9     10  \n",
       "5        10        6     10  \n",
       "6        10        8     10  \n",
       "7        10        7     10  \n",
       "8         7        6     10  \n",
       "9         9        5     10  "
      ]
     },
     "metadata": {},
     "output_type": "display_data"
    }
   ],
   "source": [
    "display(data_base)"
   ]
  },
  {
   "cell_type": "code",
   "execution_count": 191,
   "id": "2a81f385",
   "metadata": {},
   "outputs": [
    {
     "name": "stdout",
     "output_type": "stream",
     "text": [
      "Nombre         Natalia Betancourt\n",
      "Pepperoni                      10\n",
      "Jamón                           8\n",
      "Piña                            3\n",
      "Champiñones                     5\n",
      "Maduro                          2\n",
      "Tocineta                        9\n",
      "Cebolla                         4\n",
      "Queso                          10\n",
      "Name: 0, dtype: object\n"
     ]
    }
   ],
   "source": [
    "print(data_base.iloc[0])"
   ]
  },
  {
   "cell_type": "code",
   "execution_count": 192,
   "id": "94f0bb7d",
   "metadata": {},
   "outputs": [
    {
     "name": "stdout",
     "output_type": "stream",
     "text": [
      "[10, 8, 3, 5, 2, 9, 4, 10]\n",
      "[10, 5, 8, 8, 10, 10, 9, 10]\n",
      "[9, 6, 9, 9, 8, 7, 4, 10]\n",
      "[10, 8, 7, 8, 9, 9, 7, 10]\n",
      "[10, 9, 9, 9, 9, 9, 9, 10]\n",
      "[10, 9, 7, 9, 9, 10, 6, 10]\n",
      "[10, 9, 1, 10, 8, 10, 8, 10]\n",
      "[10, 8, 4, 10, 10, 10, 7, 10]\n",
      "[9, 9, 10, 5, 7, 7, 6, 10]\n",
      "[10, 10, 4, 6, 9, 9, 5, 10]\n"
     ]
    }
   ],
   "source": [
    "array_1 = []\n",
    "array_2 = []\n",
    "array_3 = []\n",
    "array_4 = []\n",
    "array_5 = []\n",
    "array_6 = []\n",
    "array_7 = []\n",
    "array_8 = []\n",
    "array_9 = []\n",
    "array_10 = []\n",
    "\n",
    "\n",
    "for i in data_base.iloc[0]:\n",
    "    array_1.append(i)\n",
    "    \n",
    "for i in data_base.iloc[1]:\n",
    "    array_2.append(i)\n",
    "    \n",
    "for i in data_base.iloc[2]:\n",
    "    array_3.append(i)\n",
    "    \n",
    "for i in data_base.iloc[3]:\n",
    "    array_4.append(i)\n",
    "    \n",
    "for i in data_base.iloc[4]:\n",
    "    array_5.append(i)\n",
    "\n",
    "for i in data_base.iloc[5]:\n",
    "    array_6.append(i)\n",
    "    \n",
    "for i in data_base.iloc[6]:\n",
    "    array_7.append(i)\n",
    "    \n",
    "for i in data_base.iloc[7]:\n",
    "    array_8.append(i)\n",
    "\n",
    "for i in data_base.iloc[8]:\n",
    "    array_9.append(i)\n",
    "    \n",
    "for i in data_base.iloc[9]:\n",
    "    array_10.append(i)\n",
    "    \n",
    "    \n",
    "X = [array_1, array_2, array_3, array_4, array_5, array_6, array_7, array_8, array_9, array_10]\n",
    "\n",
    "for item in X:\n",
    "    item.pop(0)\n",
    "    print(item)"
   ]
  },
  {
   "cell_type": "code",
   "execution_count": 193,
   "id": "6f1d71bd",
   "metadata": {},
   "outputs": [],
   "source": [
    "result = 1 - distance.cosine(data_base.Pepperoni, data_base.Jamón) #Distancia coseno"
   ]
  },
  {
   "cell_type": "code",
   "execution_count": 194,
   "id": "8158a6e7",
   "metadata": {},
   "outputs": [
    {
     "name": "stdout",
     "output_type": "stream",
     "text": [
      "Distancia coseno: 0.9851112035920647\n"
     ]
    }
   ],
   "source": [
    "print(\"Distancia coseno:\", result)"
   ]
  },
  {
   "cell_type": "code",
   "execution_count": 195,
   "id": "c96f9f72",
   "metadata": {},
   "outputs": [
    {
     "name": "stdout",
     "output_type": "stream",
     "text": [
      "2.8284271247461903\n"
     ]
    }
   ],
   "source": [
    "arbitrary_value = math.sqrt(len(array_1)) #Valor arbitrario, raíz cuadrada del número total de usuarios\n",
    "print(arbitrary_value)\n"
   ]
  },
  {
   "cell_type": "code",
   "execution_count": 196,
   "id": "b5cbf290",
   "metadata": {},
   "outputs": [
    {
     "name": "stdout",
     "output_type": "stream",
     "text": [
      "Distancias dentro del vecindario\n",
      "Distancias de los usuarios con respecto al usuario  0 \n",
      " [ 0.          7.48331477  9.11043358  9.11043358  9.16515139  9.32737905\n",
      "  9.8488578  10.         11.26942767 11.53256259]\n",
      "Distancias de los usuarios con respecto al usuario  1 \n",
      " [ 0.          4.          4.47213595  5.29150262  5.74456265  6.4807407\n",
      "  7.54983444  7.93725393  8.60232527 11.53256259]\n",
      "Distancias de los usuarios con respecto al usuario  2 \n",
      " [ 0.          4.89897949  5.29150262  5.56776436  6.32455532  6.4807407\n",
      "  7.28010989  7.54983444  9.8488578  10.        ]\n",
      "Distancias de los usuarios con respecto al usuario  3 \n",
      " [0.         2.         3.16227766 3.87298335 4.         4.58257569\n",
      " 4.89897949 5.38516481 6.63324958 9.11043358]\n",
      "Distancias de los usuarios con respecto al usuario  4 \n",
      " [ 0.          3.16227766  3.74165739  4.47213595  5.74456265  5.91607978\n",
      "  6.32455532  7.14142843  8.24621125 11.26942767]\n",
      "Distancias de los usuarios con respecto al usuario  5 \n",
      " [0.         2.         3.60555128 3.74165739 4.58257569 5.29150262\n",
      " 5.29150262 6.244998   6.4807407  9.32737905]\n",
      "Distancias de los usuarios con respecto al usuario  6 \n",
      " [ 0.          3.87298335  6.08276253  6.4807407   6.63324958  8.24621125\n",
      "  8.60232527  9.11043358 10.         11.        ]\n",
      "Distancias de los usuarios con respecto al usuario  7 \n",
      " [ 0.          3.60555128  3.87298335  3.87298335  5.09901951  5.74456265\n",
      "  5.74456265  7.28010989  9.05538514 10.        ]\n",
      "Distancias de los usuarios con respecto al usuario  8 \n",
      " [ 0.          5.38516481  5.56776436  5.91607978  6.244998    6.92820323\n",
      "  7.54983444  9.05538514  9.16515139 11.        ]\n",
      "Distancias de los usuarios con respecto al usuario  9 \n",
      " [0.         4.58257569 4.58257569 5.09901951 6.08276253 6.92820323\n",
      " 7.14142843 7.48331477 7.54983444 7.93725393]\n"
     ]
    }
   ],
   "source": [
    "nbrs = NearestNeighbors(n_neighbors=10, algorithm='ball_tree').fit(X)\n",
    "distances, indices = nbrs.kneighbors(X)\n",
    "print(\"Distancias dentro del vecindario\")\n",
    "i = 0\n",
    "f = 0\n",
    "for item in distances:\n",
    "    print(\"Distancias de los usuarios con respecto al usuario \", i, \"\\n\", item)\n",
    "    i += 1"
   ]
  },
  {
   "cell_type": "code",
   "execution_count": 199,
   "id": "fbeeda96",
   "metadata": {},
   "outputs": [
    {
     "name": "stdout",
     "output_type": "stream",
     "text": [
      "Índices de los usuarios con respecto al usuario  10  (Ordenados del más cercano al más lejano) \n",
      " [0 9 6 3 8 5 2 7 4 1]\n",
      "Índices de los usuarios con respecto al usuario  11  (Ordenados del más cercano al más lejano) \n",
      " [1 3 4 5 7 2 8 9 6 0]\n",
      "Índices de los usuarios con respecto al usuario  12  (Ordenados del más cercano al más lejano) \n",
      " [2 3 5 8 4 1 7 9 0 6]\n",
      "Índices de los usuarios con respecto al usuario  13  (Ordenados del más cercano al más lejano) \n",
      " [3 5 4 7 1 9 2 8 6 0]\n",
      "Índices de los usuarios con respecto al usuario  14  (Ordenados del más cercano al más lejano) \n",
      " [4 3 5 1 7 8 2 9 6 0]\n",
      "Índices de los usuarios con respecto al usuario  15  (Ordenados del más cercano al más lejano) \n",
      " [5 3 7 4 9 2 1 8 6 0]\n",
      "Índices de los usuarios con respecto al usuario  16  (Ordenados del más cercano al más lejano) \n",
      " [6 7 9 5 3 4 1 0 2 8]\n",
      "Índices de los usuarios con respecto al usuario  17  (Ordenados del más cercano al más lejano) \n",
      " [7 5 6 3 9 1 4 2 8 0]\n",
      "Índices de los usuarios con respecto al usuario  18  (Ordenados del más cercano al más lejano) \n",
      " [8 3 2 4 5 9 1 7 0 6]\n",
      "Índices de los usuarios con respecto al usuario  19  (Ordenados del más cercano al más lejano) \n",
      " [9 3 5 7 6 8 4 0 2 1]\n"
     ]
    }
   ],
   "source": [
    "for item in indices:\n",
    "    print(\"Índices de los usuarios con respecto al usuario \", f, \" (Ordenados del más cercano al más lejano)\", \"\\n\", item)\n",
    "    f += 1"
   ]
  },
  {
   "cell_type": "code",
   "execution_count": 200,
   "id": "d8ea3332",
   "metadata": {},
   "outputs": [
    {
     "name": "stdout",
     "output_type": "stream",
     "text": [
      "El eje X representa los índices de los usuarios, el eje Y representa las distancias\n",
      "Usuario 0\n"
     ]
    },
    {
     "data": {
      "image/png": "[encoded data removed]",
      "text/plain": [
       "<Figure size 540x252 with 1 Axes>"
      ]
     },
     "metadata": {
      "needs_background": "light"
     },
     "output_type": "display_data"
    },
    {
     "name": "stdout",
     "output_type": "stream",
     "text": [
      "Usuario 1\n"
     ]
    },
    {
     "data": {
      "image/png": "[encoded data removed]",
      "text/plain": [
       "<Figure size 540x252 with 1 Axes>"
      ]
     },
     "metadata": {
      "needs_background": "light"
     },
     "output_type": "display_data"
    },
    {
     "name": "stdout",
     "output_type": "stream",
     "text": [
      "Usuario 2\n"
     ]
    },
    {
     "data": {
      "image/png": "[encoded data removed]",
      "text/plain": [
       "<Figure size 540x252 with 1 Axes>"
      ]
     },
     "metadata": {
      "needs_background": "light"
     },
     "output_type": "display_data"
    },
    {
     "name": "stdout",
     "output_type": "stream",
     "text": [
      "Usuario 3\n"
     ]
    },
    {
     "data": {
      "image/png": "[encoded data removed]",
      "text/plain": [
       "<Figure size 540x252 with 1 Axes>"
      ]
     },
     "metadata": {
      "needs_background": "light"
     },
     "output_type": "display_data"
    },
    {
     "name": "stdout",
     "output_type": "stream",
     "text": [
      "Usuario 4\n"
     ]
    },
    {
     "data": {
      "image/png": "[encoded data removed]",
      "text/plain": [
       "<Figure size 540x252 with 1 Axes>"
      ]
     },
     "metadata": {
      "needs_background": "light"
     },
     "output_type": "display_data"
    },
    {
     "name": "stdout",
     "output_type": "stream",
     "text": [
      "Usuario 5\n"
     ]
    },
    {
     "data": {
      "image/png": "[encoded data removed]",
      "text/plain": [
       "<Figure size 540x252 with 1 Axes>"
      ]
     },
     "metadata": {
      "needs_background": "light"
     },
     "output_type": "display_data"
    },
    {
     "name": "stdout",
     "output_type": "stream",
     "text": [
      "Usuario 6\n"
     ]
    },
    {
     "data": {
      "image/png": "[encoded data removed]",
      "text/plain": [
       "<Figure size 540x252 with 1 Axes>"
      ]
     },
     "metadata": {
      "needs_background": "light"
     },
     "output_type": "display_data"
    },
    {
     "name": "stdout",
     "output_type": "stream",
     "text": [
      "Usuario 7\n"
     ]
    },
    {
     "data": {
      "image/png": "[encoded data removed]",
      "text/plain": [
       "<Figure size 540x252 with 1 Axes>"
      ]
     },
     "metadata": {
      "needs_background": "light"
     },
     "output_type": "display_data"
    },
    {
     "name": "stdout",
     "output_type": "stream",
     "text": [
      "Usuario 8\n"
     ]
    },
    {
     "data": {
      "image/png": "[encoded data removed]",
      "text/plain": [
       "<Figure size 540x252 with 1 Axes>"
      ]
     },
     "metadata": {
      "needs_background": "light"
     },
     "output_type": "display_data"
    },
    {
     "name": "stdout",
     "output_type": "stream",
     "text": [
      "Usuario 9\n"
     ]
    },
    {
     "data": {
      "image/png": "[encoded data removed]",
      "text/plain": [
       "<Figure size 540x252 with 1 Axes>"
      ]
     },
     "metadata": {
      "needs_background": "light"
     },
     "output_type": "display_data"
    }
   ],
   "source": [
    "y = 0\n",
    "\n",
    "print(\"El eje X representa los índices de los usuarios, el eje Y representa las distancias\")\n",
    "\n",
    "for item in indices:\n",
    "    plt.rcParams[\"figure.figsize\"] = [7.50, 3.50]\n",
    "    plt.rcParams[\"figure.autolayout\"] = True\n",
    "\n",
    "    print(\"Usuario\", y)\n",
    "    plt.title(\"Distancias de los usuarios con respecto a este usuario\")\n",
    "    plt.scatter(indices[y], distances[y], color=\"red\")\n",
    "\n",
    "    plt.show()\n",
    "    \n",
    "    y+=1"
   ]
  },
  {
   "cell_type": "code",
   "execution_count": null,
   "id": "9daabed5",
   "metadata": {},
   "outputs": [],
   "source": []
  }
 ],
 "metadata": {
  "kernelspec": {
   "display_name": "Python 3 (ipykernel)",
   "language": "python",
   "name": "python3"
  },
  "language_info": {
   "codemirror_mode": {
    "name": "ipython",
    "version": 3
   },
   "file_extension": ".py",
   "mimetype": "text/x-python",
   "name": "python",
   "nbconvert_exporter": "python",
   "pygments_lexer": "ipython3",
   "version": "3.9.12"
  }
 },
 "nbformat": 4,
 "nbformat_minor": 5
}
