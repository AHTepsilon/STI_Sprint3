{
 "cells": [
  {
   "cell_type": "code",
   "execution_count": 84,
   "id": "0e70be3e",
   "metadata": {},
   "outputs": [],
   "source": [
    "import numpy as np\n",
    "import pandas as pd\n",
    "import math\n",
    "import array as arr\n",
    "\n",
    "import matplotlib.pyplot as plt\n",
    "\n",
    "from sklearn.datasets import make_blobs\n",
    "from sklearn.neighbors import KNeighborsClassifier\n",
    "from sklearn.model_selection import train_test_split"
   ]
  },
  {
   "cell_type": "code",
   "execution_count": 85,
   "id": "6f19e76a",
   "metadata": {},
   "outputs": [
    {
     "data": {
      "text/plain": [
       "'1.4.2'"
      ]
     },
     "execution_count": 85,
     "metadata": {},
     "output_type": "execute_result"
    }
   ],
   "source": [
    "pd.__version__"
   ]
  },
  {
   "cell_type": "code",
   "execution_count": 86,
   "id": "451ed33c",
   "metadata": {},
   "outputs": [],
   "source": [
    "data_base = pd.read_csv('database.csv')"
   ]
  },
  {
   "cell_type": "code",
   "execution_count": 87,
   "id": "1eed9322",
   "metadata": {
    "scrolled": true
   },
   "outputs": [
    {
     "name": "stdout",
     "output_type": "stream",
     "text": [
      "  Usuarios  C1  C2  C3  C4  C5  C6  C7  C8  C9  C10\n",
      "0       U1   4   7   5   6   5   3   7  10   6    3\n",
      "1       U2   5   8   6   4   2   4   6   8  10    7\n",
      "2       U3   5   8   7   3   2   6   8   7   4    2\n",
      "3       U4   6   7   5   3   2   4   6   8   7    4\n",
      "4       U5   9   5   2   1   4   6   7   5   4    3\n",
      "5       U6   8   8   6   4   3   4   5   6   7    8\n",
      "6       U7   3   2   6   4   7   6   8   6   4    3\n",
      "7       U8   6   7   4   3   7   8   7   1   1    2\n",
      "8       U9  10   5   4   6   2   4   6   4   2    1\n",
      "9      U10   7   3   4   5   7   8  10   8   6    4\n"
     ]
    }
   ],
   "source": [
    "print(data_base)"
   ]
  },
  {
   "cell_type": "code",
   "execution_count": 88,
   "id": "2a81f385",
   "metadata": {},
   "outputs": [],
   "source": [
    "#result = 1 - spatial.distance.cosine(data_base.C1, data_base.C2)\n",
    "#k_Neighbors = math.sqrt(len(data_base))"
   ]
  },
  {
   "cell_type": "code",
   "execution_count": 89,
   "id": "94f0bb7d",
   "metadata": {},
   "outputs": [
    {
     "name": "stdout",
     "output_type": "stream",
     "text": [
      "[4, 5, 5, 6, 9, 8, 3, 6, 10, 7]\n",
      "[7, 8, 8, 7, 5, 8, 2, 7, 5, 3]\n",
      "[5, 6, 7, 5, 2, 6, 6, 4, 4, 4]\n",
      "[6, 4, 3, 3, 1, 4, 4, 3, 6, 5]\n",
      "[5, 2, 2, 2, 4, 3, 7, 7, 2, 7]\n",
      "[3, 4, 6, 4, 6, 4, 6, 8, 4, 8]\n",
      "[7, 6, 8, 6, 7, 5, 8, 7, 6, 10]\n",
      "[10, 8, 7, 8, 5, 6, 6, 1, 4, 8]\n",
      "[6, 10, 4, 7, 4, 7, 4, 1, 2, 6]\n",
      "[3, 7, 2, 4, 3, 8, 3, 2, 1, 4]\n"
     ]
    }
   ],
   "source": [
    "array_1 = []\n",
    "array_2 = []\n",
    "array_3 = []\n",
    "array_4 = []\n",
    "array_5 = []\n",
    "array_6 = []\n",
    "array_7 = []\n",
    "array_8 = []\n",
    "array_9 = []\n",
    "array_10 = []\n",
    "\n",
    "\n",
    "for i in data_base.C1:\n",
    "    array_1.append(i)\n",
    "    \n",
    "for i in data_base.C2:\n",
    "    array_2.append(i)\n",
    "    \n",
    "for i in data_base.C3:\n",
    "    array_3.append(i)\n",
    "    \n",
    "for i in data_base.C4:\n",
    "    array_4.append(i)\n",
    "    \n",
    "for i in data_base.C5:\n",
    "    array_5.append(i)\n",
    "\n",
    "for i in data_base.C6:\n",
    "    array_6.append(i)\n",
    "    \n",
    "for i in data_base.C7:\n",
    "    array_7.append(i)\n",
    "    \n",
    "for i in data_base.C8:\n",
    "    array_8.append(i)\n",
    "\n",
    "for i in data_base.C9:\n",
    "    array_9.append(i)\n",
    "    \n",
    "for i in data_base.C10:\n",
    "    array_10.append(i)\n",
    "\n",
    "print(array_1)\n",
    "print(array_2)\n",
    "print(array_3)\n",
    "print(array_4)\n",
    "print(array_5)\n",
    "print(array_6)\n",
    "print(array_7)\n",
    "print(array_8)\n",
    "print(array_9)\n",
    "print(array_10)"
   ]
  },
  {
   "cell_type": "code",
   "execution_count": 90,
   "id": "6f1d71bd",
   "metadata": {},
   "outputs": [],
   "source": [
    "X, y = make_blobs(n_samples = 10, n_features = 10, centers = 4,cluster_std = 1.5, random_state = 4)"
   ]
  },
  {
   "cell_type": "code",
   "execution_count": 91,
   "id": "9a1d08fe",
   "metadata": {},
   "outputs": [
    {
     "data": {
      "image/png": "[encoded data removed]",
      "text/plain": [
       "<Figure size 720x720 with 1 Axes>"
      ]
     },
     "metadata": {},
     "output_type": "display_data"
    }
   ],
   "source": [
    "plt.style.use('seaborn')\n",
    "plt.figure(figsize = (10,10))\n",
    "plt.scatter(X[:,0], X[:,1], c=y, marker= '*',s=100,edgecolors='black')\n",
    "plt.show()"
   ]
  },
  {
   "cell_type": "code",
   "execution_count": 92,
   "id": "c4f54f10",
   "metadata": {},
   "outputs": [],
   "source": [
    "X_train, X_test, y_train, y_test = train_test_split(X, y, random_state = 0)\n",
    "knn5 = KNeighborsClassifier(n_neighbors = 5)\n",
    "knn1 = KNeighborsClassifier(n_neighbors=1)"
   ]
  },
  {
   "cell_type": "code",
   "execution_count": 93,
   "id": "d164abf7",
   "metadata": {},
   "outputs": [],
   "source": [
    "knn5.fit(X_train, y_train)\n",
    "knn1.fit(X_train, y_train)\n",
    "\n",
    "y_pred_5 = knn5.predict(X_test)\n",
    "y_pred_1 = knn1.predict(X_test)"
   ]
  },
  {
   "cell_type": "code",
   "execution_count": 96,
   "id": "7bf69813",
   "metadata": {},
   "outputs": [
    {
     "name": "stdout",
     "output_type": "stream",
     "text": [
      "Accuracy with k=5 0.0\n",
      "Accuracy with k=1 100.0\n"
     ]
    }
   ],
   "source": [
    "from sklearn.metrics import accuracy_score\n",
    "print(\"Accuracy with k=5\", accuracy_score(y_test, y_pred_5)*100)\n",
    "print(\"Accuracy with k=1\", accuracy_score(y_test, y_pred_1)*100)"
   ]
  },
  {
   "cell_type": "code",
   "execution_count": 97,
   "id": "066e8538",
   "metadata": {},
   "outputs": [
    {
     "data": {
      "image/png": "[encoded data removed]",
      "text/plain": [
       "<Figure size 1080x360 with 2 Axes>"
      ]
     },
     "metadata": {},
     "output_type": "display_data"
    }
   ],
   "source": [
    "plt.figure(figsize = (15,5))\n",
    "plt.subplot(1,2,1)\n",
    "plt.scatter(X_test[:,0], X_test[:,1], c=y_pred_5, marker= '*', s=100,edgecolors='black')\n",
    "plt.title(\"Predicted values with k=5\", fontsize=20)\n",
    "\n",
    "plt.subplot(1,2,2)\n",
    "plt.scatter(X_test[:,0], X_test[:,1], c=y_pred_1, marker= '*', s=100,edgecolors='black')\n",
    "plt.title(\"Predicted values with k=1\", fontsize=20)\n",
    "plt.show()"
   ]
  },
  {
   "cell_type": "code",
   "execution_count": null,
   "id": "33755e40",
   "metadata": {},
   "outputs": [],
   "source": []
  }
 ],
 "metadata": {
  "kernelspec": {
   "display_name": "Python 3 (ipykernel)",
   "language": "python",
   "name": "python3"
  },
  "language_info": {
   "codemirror_mode": {
    "name": "ipython",
    "version": 3
   },
   "file_extension": ".py",
   "mimetype": "text/x-python",
   "name": "python",
   "nbconvert_exporter": "python",
   "pygments_lexer": "ipython3",
   "version": "3.9.12"
  }
 },
 "nbformat": 4,
 "nbformat_minor": 5
}
